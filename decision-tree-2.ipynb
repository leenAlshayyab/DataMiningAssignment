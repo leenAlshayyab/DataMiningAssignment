{
 "cells": [
  {
   "cell_type": "code",
   "execution_count": 1,
   "id": "a0105d8b",
   "metadata": {
    "_cell_guid": "b1076dfc-b9ad-4769-8c92-a6c4dae69d19",
    "_uuid": "8f2839f25d086af736a60e9eeb907d3b93b6e0e5",
    "execution": {
     "iopub.execute_input": "2023-05-20T16:40:27.468326Z",
     "iopub.status.busy": "2023-05-20T16:40:27.467177Z",
     "iopub.status.idle": "2023-05-20T16:40:29.572176Z",
     "shell.execute_reply": "2023-05-20T16:40:29.570706Z"
    },
    "papermill": {
     "duration": 2.116218,
     "end_time": "2023-05-20T16:40:29.575062",
     "exception": false,
     "start_time": "2023-05-20T16:40:27.458844",
     "status": "completed"
    },
    "tags": []
   },
   "outputs": [
    {
     "name": "stderr",
     "output_type": "stream",
     "text": [
      "/opt/conda/lib/python3.10/site-packages/scipy/__init__.py:146: UserWarning: A NumPy version >=1.16.5 and <1.23.0 is required for this version of SciPy (detected version 1.23.5\n",
      "  warnings.warn(f\"A NumPy version >={np_minversion} and <{np_maxversion}\"\n"
     ]
    },
    {
     "name": "stdout",
     "output_type": "stream",
     "text": [
      "/kaggle/input/stroke-prediction-dataset-assignment/submission.csv\n",
      "/kaggle/input/stroke-prediction-dataset-assignment/train.csv\n",
      "/kaggle/input/stroke-prediction-dataset-assignment/test.csv\n"
     ]
    }
   ],
   "source": [
    "# This Python 3 environment comes with many helpful analytics libraries installed\n",
    "# It is defined by the kaggle/python Docker image: https://github.com/kaggle/docker-python\n",
    "# For example, here's several helpful packages to load\n",
    "\n",
    "import numpy as np # linear algebra\n",
    "import pandas as pd\n",
    "import matplotlib.pyplot as plt\n",
    "from sklearn.tree import DecisionTreeClassifier\n",
    "from sklearn.model_selection import train_test_split\n",
    "from sklearn.metrics import accuracy_score\n",
    "from imblearn.over_sampling import SMOTE\n",
    "# Input data files are available in the read-only \"../input/\" directory\n",
    "# For example, running this (by clicking run or pressing Shift+Enter) will list all files under the input directory\n",
    "\n",
    "import os\n",
    "for dirname, _, filenames in os.walk('/kaggle/input'):\n",
    "    for filename in filenames:\n",
    "        print(os.path.join(dirname, filename))\n",
    "\n",
    "# You can write up to 20GB to the current directory (/kaggle/working/) that gets preserved as output when you create a version using \"Save & Run All\" \n",
    "# You can also write temporary files to /kaggle/temp/, but they won't be saved outside of the current session"
   ]
  },
  {
   "cell_type": "code",
   "execution_count": 2,
   "id": "0fb8cedc",
   "metadata": {
    "execution": {
     "iopub.execute_input": "2023-05-20T16:40:29.590421Z",
     "iopub.status.busy": "2023-05-20T16:40:29.589931Z",
     "iopub.status.idle": "2023-05-20T16:40:29.596578Z",
     "shell.execute_reply": "2023-05-20T16:40:29.595283Z"
    },
    "papermill": {
     "duration": 0.017333,
     "end_time": "2023-05-20T16:40:29.599381",
     "exception": false,
     "start_time": "2023-05-20T16:40:29.582048",
     "status": "completed"
    },
    "tags": []
   },
   "outputs": [],
   "source": [
    "column_values = {\n",
    "    'gender': ['Male', 'Female', 'Other'],\n",
    "    'ever_married': ['Yes', 'No'],\n",
    "    'Residence_type': ['Rural', 'Urban'],\n",
    "    'smoking_status': ['formerly smoked', 'never smoked', 'smokes', 'Unknown'],\n",
    "    'work_type': ['Private', 'Self-employed', 'children', 'Govt_job', 'Never_worked']\n",
    "}"
   ]
  },
  {
   "cell_type": "code",
   "execution_count": 3,
   "id": "3106040a",
   "metadata": {
    "execution": {
     "iopub.execute_input": "2023-05-20T16:40:29.614360Z",
     "iopub.status.busy": "2023-05-20T16:40:29.613469Z",
     "iopub.status.idle": "2023-05-20T16:40:29.664618Z",
     "shell.execute_reply": "2023-05-20T16:40:29.663289Z"
    },
    "papermill": {
     "duration": 0.062214,
     "end_time": "2023-05-20T16:40:29.667801",
     "exception": false,
     "start_time": "2023-05-20T16:40:29.605587",
     "status": "completed"
    },
    "tags": []
   },
   "outputs": [],
   "source": [
    "x_train = pd.read_csv('/kaggle/input/stroke-prediction-dataset-assignment/train.csv')\n",
    "x_test = pd.read_csv('/kaggle/input/stroke-prediction-dataset-assignment/test.csv')"
   ]
  },
  {
   "cell_type": "code",
   "execution_count": 4,
   "id": "0b7c4fef",
   "metadata": {
    "execution": {
     "iopub.execute_input": "2023-05-20T16:40:29.682312Z",
     "iopub.status.busy": "2023-05-20T16:40:29.681862Z",
     "iopub.status.idle": "2023-05-20T16:40:29.687386Z",
     "shell.execute_reply": "2023-05-20T16:40:29.686099Z"
    },
    "papermill": {
     "duration": 0.016088,
     "end_time": "2023-05-20T16:40:29.690156",
     "exception": false,
     "start_time": "2023-05-20T16:40:29.674068",
     "status": "completed"
    },
    "tags": []
   },
   "outputs": [],
   "source": [
    "# columns = ['gender', 'ever_married', 'Residence_type', 'smoking_status', 'work_type', 'age', 'hypertension', 'heart_disease', 'avg_glucose_level', 'bmi', '']\n",
    "# target_column = 'stroke'\n",
    "\n",
    "# for column in columns:\n",
    "#     # Group the data by the column and count occurrences of stroke and non-stroke cases\n",
    "#     grouped = x_train.groupby([column, target_column]).size().unstack()\n",
    "\n",
    "#     # Plotting the grouped data as a stacked bar chart\n",
    "#     grouped.plot(kind='bar', stacked=True)\n",
    "#     plt.xlabel(column)\n",
    "#     plt.ylabel('Count')\n",
    "#     plt.title(f'Stroke vs Non-Stroke Counts by {column}')\n",
    "#     plt.legend(['Non-Stroke', 'Stroke'])\n",
    "#     plt.show()"
   ]
  },
  {
   "cell_type": "code",
   "execution_count": null,
   "id": "3d1343ab",
   "metadata": {
    "papermill": {
     "duration": 0.005905,
     "end_time": "2023-05-20T16:40:29.702466",
     "exception": false,
     "start_time": "2023-05-20T16:40:29.696561",
     "status": "completed"
    },
    "tags": []
   },
   "outputs": [],
   "source": []
  },
  {
   "cell_type": "code",
   "execution_count": 5,
   "id": "13d2689c",
   "metadata": {
    "execution": {
     "iopub.execute_input": "2023-05-20T16:40:29.717314Z",
     "iopub.status.busy": "2023-05-20T16:40:29.716219Z",
     "iopub.status.idle": "2023-05-20T16:40:29.773616Z",
     "shell.execute_reply": "2023-05-20T16:40:29.772350Z"
    },
    "papermill": {
     "duration": 0.068284,
     "end_time": "2023-05-20T16:40:29.776894",
     "exception": false,
     "start_time": "2023-05-20T16:40:29.708610",
     "status": "completed"
    },
    "tags": []
   },
   "outputs": [],
   "source": [
    "x_train.drop(['id'],axis=1,inplace=True)\n",
    "# data['gender'].replace({'Female':1, 'Male':0 ,'Other':0}, inplace=True)\n",
    "x_train['ever_married'].replace({'Yes':1, 'No':0 }, inplace=True)\n",
    "x_train['work_type'].replace({'Private':3, 'Govt_job':2 , 'Self-employed':2 , 'children':1 , 'Never_worked':1}, inplace=True)\n",
    "#data['Residence_type'].replace({'Rural':1, 'Urban':0 }, inplace=True)\n",
    "x_train = pd.get_dummies(x_train,columns=[\"smoking_status\"])\n",
    "#data.drop('work_type', axis=1,inplace = True)\n",
    "x_train.drop('gender', axis=1,inplace = True)\n",
    "x_train.drop('Residence_type', axis=1,inplace = True)\n",
    "\n",
    "\n",
    "#data_t['gender'].replace({'Female':1, 'Male':0 ,'Other':0}, inplace=True)\n",
    "x_test['ever_married'].replace({'Yes':1, 'No':0 }, inplace=True)\n",
    "#data_t['Residence_type'].replace({'Rural':1, 'Urban':0 }, inplace=True)\n",
    "x_test = pd.get_dummies(x_test,columns=[\"smoking_status\"])\n",
    "#data_t.drop('work_type', axis=1,inplace = True)\n",
    "x_test['work_type'].replace({'Private':3, 'Govt_job':2 , 'Self-employed':2 , 'children':1 , 'Never_worked':1}, inplace=True)\n",
    "x_test.drop('Residence_type', axis=1,inplace = True)\n",
    "x_test.drop('gender', axis=1,inplace = True)\n",
    "i = x_test.drop('id',axis=1,inplace=True)\n",
    "x_test.fillna(0,inplace=True)\n",
    "x_train.fillna(0,inplace=True)\n",
    "# data_t.info()"
   ]
  },
  {
   "cell_type": "code",
   "execution_count": 6,
   "id": "5f80a95b",
   "metadata": {
    "execution": {
     "iopub.execute_input": "2023-05-20T16:40:29.791577Z",
     "iopub.status.busy": "2023-05-20T16:40:29.791136Z",
     "iopub.status.idle": "2023-05-20T16:40:29.797729Z",
     "shell.execute_reply": "2023-05-20T16:40:29.796321Z"
    },
    "papermill": {
     "duration": 0.017459,
     "end_time": "2023-05-20T16:40:29.800597",
     "exception": false,
     "start_time": "2023-05-20T16:40:29.783138",
     "status": "completed"
    },
    "tags": []
   },
   "outputs": [],
   "source": [
    "x_train.fillna(0, inplace=True)\n",
    "x_test.fillna(0, inplace=True)"
   ]
  },
  {
   "cell_type": "code",
   "execution_count": 7,
   "id": "3d8eb51b",
   "metadata": {
    "execution": {
     "iopub.execute_input": "2023-05-20T16:40:29.814945Z",
     "iopub.status.busy": "2023-05-20T16:40:29.814460Z",
     "iopub.status.idle": "2023-05-20T16:40:29.820014Z",
     "shell.execute_reply": "2023-05-20T16:40:29.818599Z"
    },
    "papermill": {
     "duration": 0.015862,
     "end_time": "2023-05-20T16:40:29.822663",
     "exception": false,
     "start_time": "2023-05-20T16:40:29.806801",
     "status": "completed"
    },
    "tags": []
   },
   "outputs": [],
   "source": [
    "# for column, values in column_values.items():\n",
    "#     x_train[column] = x_train[column].map(lambda x: values.index(x) if x in values else x)\n",
    "#     x_test[column] = x_test[column].map(lambda x: values.index(x) if x in values else x)"
   ]
  },
  {
   "cell_type": "code",
   "execution_count": 8,
   "id": "cba2478a",
   "metadata": {
    "execution": {
     "iopub.execute_input": "2023-05-20T16:40:29.837475Z",
     "iopub.status.busy": "2023-05-20T16:40:29.836686Z",
     "iopub.status.idle": "2023-05-20T16:40:29.841510Z",
     "shell.execute_reply": "2023-05-20T16:40:29.840631Z"
    },
    "papermill": {
     "duration": 0.015168,
     "end_time": "2023-05-20T16:40:29.844014",
     "exception": false,
     "start_time": "2023-05-20T16:40:29.828846",
     "status": "completed"
    },
    "tags": []
   },
   "outputs": [],
   "source": [
    "y_train = x_train['stroke']"
   ]
  },
  {
   "cell_type": "code",
   "execution_count": 9,
   "id": "675e0132",
   "metadata": {
    "execution": {
     "iopub.execute_input": "2023-05-20T16:40:29.858749Z",
     "iopub.status.busy": "2023-05-20T16:40:29.857936Z",
     "iopub.status.idle": "2023-05-20T16:40:29.864224Z",
     "shell.execute_reply": "2023-05-20T16:40:29.862969Z"
    },
    "papermill": {
     "duration": 0.016898,
     "end_time": "2023-05-20T16:40:29.867076",
     "exception": false,
     "start_time": "2023-05-20T16:40:29.850178",
     "status": "completed"
    },
    "tags": []
   },
   "outputs": [],
   "source": [
    "x_train.drop(['stroke'], axis=1, inplace=True)"
   ]
  },
  {
   "cell_type": "code",
   "execution_count": 10,
   "id": "709c6f02",
   "metadata": {
    "execution": {
     "iopub.execute_input": "2023-05-20T16:40:29.882457Z",
     "iopub.status.busy": "2023-05-20T16:40:29.881623Z",
     "iopub.status.idle": "2023-05-20T16:40:29.904243Z",
     "shell.execute_reply": "2023-05-20T16:40:29.903188Z"
    },
    "papermill": {
     "duration": 0.033517,
     "end_time": "2023-05-20T16:40:29.907129",
     "exception": false,
     "start_time": "2023-05-20T16:40:29.873612",
     "status": "completed"
    },
    "tags": []
   },
   "outputs": [],
   "source": [
    "smote = SMOTE(random_state=42)\n",
    "x_train_resampled, y_train_resampled = smote.fit_resample(x_train, y_train)"
   ]
  },
  {
   "cell_type": "code",
   "execution_count": 11,
   "id": "ff7964bd",
   "metadata": {
    "execution": {
     "iopub.execute_input": "2023-05-20T16:40:29.921288Z",
     "iopub.status.busy": "2023-05-20T16:40:29.920776Z",
     "iopub.status.idle": "2023-05-20T16:40:29.926109Z",
     "shell.execute_reply": "2023-05-20T16:40:29.925233Z"
    },
    "papermill": {
     "duration": 0.014988,
     "end_time": "2023-05-20T16:40:29.928277",
     "exception": false,
     "start_time": "2023-05-20T16:40:29.913289",
     "status": "completed"
    },
    "tags": []
   },
   "outputs": [],
   "source": [
    "clf = DecisionTreeClassifier(\n",
    "    criterion='gini',\n",
    "    max_depth=5,\n",
    "    min_samples_split=10,\n",
    "    min_samples_leaf=5,\n",
    "    random_state=42\n",
    ")"
   ]
  },
  {
   "cell_type": "code",
   "execution_count": 12,
   "id": "76ccdfe1",
   "metadata": {
    "execution": {
     "iopub.execute_input": "2023-05-20T16:40:29.942714Z",
     "iopub.status.busy": "2023-05-20T16:40:29.942240Z",
     "iopub.status.idle": "2023-05-20T16:40:29.980147Z",
     "shell.execute_reply": "2023-05-20T16:40:29.978668Z"
    },
    "papermill": {
     "duration": 0.048404,
     "end_time": "2023-05-20T16:40:29.982848",
     "exception": false,
     "start_time": "2023-05-20T16:40:29.934444",
     "status": "completed"
    },
    "tags": []
   },
   "outputs": [
    {
     "data": {
      "text/html": [
       "<style>#sk-container-id-1 {color: black;background-color: white;}#sk-container-id-1 pre{padding: 0;}#sk-container-id-1 div.sk-toggleable {background-color: white;}#sk-container-id-1 label.sk-toggleable__label {cursor: pointer;display: block;width: 100%;margin-bottom: 0;padding: 0.3em;box-sizing: border-box;text-align: center;}#sk-container-id-1 label.sk-toggleable__label-arrow:before {content: \"▸\";float: left;margin-right: 0.25em;color: #696969;}#sk-container-id-1 label.sk-toggleable__label-arrow:hover:before {color: black;}#sk-container-id-1 div.sk-estimator:hover label.sk-toggleable__label-arrow:before {color: black;}#sk-container-id-1 div.sk-toggleable__content {max-height: 0;max-width: 0;overflow: hidden;text-align: left;background-color: #f0f8ff;}#sk-container-id-1 div.sk-toggleable__content pre {margin: 0.2em;color: black;border-radius: 0.25em;background-color: #f0f8ff;}#sk-container-id-1 input.sk-toggleable__control:checked~div.sk-toggleable__content {max-height: 200px;max-width: 100%;overflow: auto;}#sk-container-id-1 input.sk-toggleable__control:checked~label.sk-toggleable__label-arrow:before {content: \"▾\";}#sk-container-id-1 div.sk-estimator input.sk-toggleable__control:checked~label.sk-toggleable__label {background-color: #d4ebff;}#sk-container-id-1 div.sk-label input.sk-toggleable__control:checked~label.sk-toggleable__label {background-color: #d4ebff;}#sk-container-id-1 input.sk-hidden--visually {border: 0;clip: rect(1px 1px 1px 1px);clip: rect(1px, 1px, 1px, 1px);height: 1px;margin: -1px;overflow: hidden;padding: 0;position: absolute;width: 1px;}#sk-container-id-1 div.sk-estimator {font-family: monospace;background-color: #f0f8ff;border: 1px dotted black;border-radius: 0.25em;box-sizing: border-box;margin-bottom: 0.5em;}#sk-container-id-1 div.sk-estimator:hover {background-color: #d4ebff;}#sk-container-id-1 div.sk-parallel-item::after {content: \"\";width: 100%;border-bottom: 1px solid gray;flex-grow: 1;}#sk-container-id-1 div.sk-label:hover label.sk-toggleable__label {background-color: #d4ebff;}#sk-container-id-1 div.sk-serial::before {content: \"\";position: absolute;border-left: 1px solid gray;box-sizing: border-box;top: 0;bottom: 0;left: 50%;z-index: 0;}#sk-container-id-1 div.sk-serial {display: flex;flex-direction: column;align-items: center;background-color: white;padding-right: 0.2em;padding-left: 0.2em;position: relative;}#sk-container-id-1 div.sk-item {position: relative;z-index: 1;}#sk-container-id-1 div.sk-parallel {display: flex;align-items: stretch;justify-content: center;background-color: white;position: relative;}#sk-container-id-1 div.sk-item::before, #sk-container-id-1 div.sk-parallel-item::before {content: \"\";position: absolute;border-left: 1px solid gray;box-sizing: border-box;top: 0;bottom: 0;left: 50%;z-index: -1;}#sk-container-id-1 div.sk-parallel-item {display: flex;flex-direction: column;z-index: 1;position: relative;background-color: white;}#sk-container-id-1 div.sk-parallel-item:first-child::after {align-self: flex-end;width: 50%;}#sk-container-id-1 div.sk-parallel-item:last-child::after {align-self: flex-start;width: 50%;}#sk-container-id-1 div.sk-parallel-item:only-child::after {width: 0;}#sk-container-id-1 div.sk-dashed-wrapped {border: 1px dashed gray;margin: 0 0.4em 0.5em 0.4em;box-sizing: border-box;padding-bottom: 0.4em;background-color: white;}#sk-container-id-1 div.sk-label label {font-family: monospace;font-weight: bold;display: inline-block;line-height: 1.2em;}#sk-container-id-1 div.sk-label-container {text-align: center;}#sk-container-id-1 div.sk-container {/* jupyter's `normalize.less` sets `[hidden] { display: none; }` but bootstrap.min.css set `[hidden] { display: none !important; }` so we also need the `!important` here to be able to override the default hidden behavior on the sphinx rendered scikit-learn.org. See: https://github.com/scikit-learn/scikit-learn/issues/21755 */display: inline-block !important;position: relative;}#sk-container-id-1 div.sk-text-repr-fallback {display: none;}</style><div id=\"sk-container-id-1\" class=\"sk-top-container\"><div class=\"sk-text-repr-fallback\"><pre>DecisionTreeClassifier(max_depth=5, min_samples_leaf=5, min_samples_split=10,\n",
       "                       random_state=42)</pre><b>In a Jupyter environment, please rerun this cell to show the HTML representation or trust the notebook. <br />On GitHub, the HTML representation is unable to render, please try loading this page with nbviewer.org.</b></div><div class=\"sk-container\" hidden><div class=\"sk-item\"><div class=\"sk-estimator sk-toggleable\"><input class=\"sk-toggleable__control sk-hidden--visually\" id=\"sk-estimator-id-1\" type=\"checkbox\" checked><label for=\"sk-estimator-id-1\" class=\"sk-toggleable__label sk-toggleable__label-arrow\">DecisionTreeClassifier</label><div class=\"sk-toggleable__content\"><pre>DecisionTreeClassifier(max_depth=5, min_samples_leaf=5, min_samples_split=10,\n",
       "                       random_state=42)</pre></div></div></div></div></div>"
      ],
      "text/plain": [
       "DecisionTreeClassifier(max_depth=5, min_samples_leaf=5, min_samples_split=10,\n",
       "                       random_state=42)"
      ]
     },
     "execution_count": 12,
     "metadata": {},
     "output_type": "execute_result"
    }
   ],
   "source": [
    "clf.fit(x_train_resampled, y_train_resampled)"
   ]
  },
  {
   "cell_type": "code",
   "execution_count": 13,
   "id": "ebcf1d60",
   "metadata": {
    "execution": {
     "iopub.execute_input": "2023-05-20T16:40:29.997543Z",
     "iopub.status.busy": "2023-05-20T16:40:29.997074Z",
     "iopub.status.idle": "2023-05-20T16:40:30.007807Z",
     "shell.execute_reply": "2023-05-20T16:40:30.006608Z"
    },
    "papermill": {
     "duration": 0.021029,
     "end_time": "2023-05-20T16:40:30.010294",
     "exception": false,
     "start_time": "2023-05-20T16:40:29.989265",
     "status": "completed"
    },
    "tags": []
   },
   "outputs": [
    {
     "data": {
      "text/plain": [
       "array([0, 0, 0, ..., 0, 1, 0])"
      ]
     },
     "execution_count": 13,
     "metadata": {},
     "output_type": "execute_result"
    }
   ],
   "source": [
    "y_pred = clf.predict(x_test)\n",
    "y_pred"
   ]
  },
  {
   "cell_type": "code",
   "execution_count": 14,
   "id": "978284aa",
   "metadata": {
    "execution": {
     "iopub.execute_input": "2023-05-20T16:40:30.025782Z",
     "iopub.status.busy": "2023-05-20T16:40:30.025304Z",
     "iopub.status.idle": "2023-05-20T16:40:30.045754Z",
     "shell.execute_reply": "2023-05-20T16:40:30.044742Z"
    },
    "papermill": {
     "duration": 0.031609,
     "end_time": "2023-05-20T16:40:30.048659",
     "exception": false,
     "start_time": "2023-05-20T16:40:30.017050",
     "status": "completed"
    },
    "tags": []
   },
   "outputs": [],
   "source": [
    "temp = pd.read_csv('/kaggle/input/stroke-prediction-dataset-assignment/test.csv')\n",
    "submission = pd.DataFrame({'id': temp['id'], 'stroke': y_pred})\n",
    "submission.to_csv('submission.csv', index=False)"
   ]
  },
  {
   "cell_type": "code",
   "execution_count": null,
   "id": "91c7b6c2",
   "metadata": {
    "papermill": {
     "duration": 0.006301,
     "end_time": "2023-05-20T16:40:30.061717",
     "exception": false,
     "start_time": "2023-05-20T16:40:30.055416",
     "status": "completed"
    },
    "tags": []
   },
   "outputs": [],
   "source": []
  }
 ],
 "metadata": {
  "kernelspec": {
   "display_name": "Python 3",
   "language": "python",
   "name": "python3"
  },
  "language_info": {
   "codemirror_mode": {
    "name": "ipython",
    "version": 3
   },
   "file_extension": ".py",
   "mimetype": "text/x-python",
   "name": "python",
   "nbconvert_exporter": "python",
   "pygments_lexer": "ipython3",
   "version": "3.10.10"
  },
  "papermill": {
   "default_parameters": {},
   "duration": 17.083856,
   "end_time": "2023-05-20T16:40:31.193289",
   "environment_variables": {},
   "exception": null,
   "input_path": "__notebook__.ipynb",
   "output_path": "__notebook__.ipynb",
   "parameters": {},
   "start_time": "2023-05-20T16:40:14.109433",
   "version": "2.4.0"
  }
 },
 "nbformat": 4,
 "nbformat_minor": 5
}
